sayi = int(input("Bir sayı girin: "))

if sayi % 5 == 0 or sayi % 7 == 0:
    if sayi % 5 == 0:
        print(f"{sayi}, 5'e bölünebilir.")
    if sayi % 7 == 0:
        print(f"{sayi}, 7'ye bölünebilir.")
else:
    print(f"{sayi}, ne 5'e ne de 7'ye bölünemez.")



import random

hedef_sayi = random.randint(1, 9)

while True:
    tahmin = int(input("1 ile 9 arasında bir sayı tahmin edin: "))
    
    if tahmin == hedef_sayi:
        print("İyi tahmin.")
        break
    else:
        print("Yanlış tahmin.")



kelime = input("Bir kelime girin: ")

if len(kelime) < 1:
    print("Geçersiz giriş. En az bir karakter içeren bir kelime girin.")
else:
    ilk_harf = kelime[0]
    son_harf = kelime[-1]

    if ilk_harf == son_harf:
        print(f"{kelime} kelimesinin başında ve sonunda aynı harfler bulunur.")
    else:
        print(f"{kelime} kelimesinin başında ve sonunda farklı harfler bulunur.")



boy = float(input("Boyunuzu (metre cinsinden) girin: "))
kilo = float(input("Kilonuzu (kilogram cinsinden) girin: "))

bmi = kilo / (boy ** 2)

print(f"Beden Kitle İndeksiniz (BMI): {bmi:.2f}")

if bmi < 20:
    print("Zayıf")
elif 20 <= bmi < 25:
    print("Normal")
elif 25 <= bmi < 30:
    print("Aşırı kilolu")
else:
    print("Obez")
